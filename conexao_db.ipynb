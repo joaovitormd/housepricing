{
 "cells": [
  {
   "cell_type": "code",
   "execution_count": 1,
   "id": "8a863038",
   "metadata": {},
   "outputs": [],
   "source": [
    "import sqlite3"
   ]
  },
  {
   "cell_type": "code",
   "execution_count": 2,
   "id": "88fd08bd",
   "metadata": {},
   "outputs": [],
   "source": [
    "#criar banco de dados\n",
    "conexao_banco = sqlite3.connect('banco_de_dados_API.db')"
   ]
  },
  {
   "cell_type": "code",
   "execution_count": 3,
   "id": "37a0f1e3",
   "metadata": {},
   "outputs": [],
   "source": [
    "#apontar para o banco de dados\n",
    "cursor = conexao_banco.cursor()"
   ]
  },
  {
   "cell_type": "code",
   "execution_count": null,
   "id": "e6fd5cf2",
   "metadata": {},
   "outputs": [],
   "source": [
    "#Query --> criar tabela\n",
    "\n",
    "query_criar_banco='''\n",
    "\n",
    "CREATE TABLE Log_API (\n",
    "    id INTEGER NOT NULL PRIMARY KEY AUTOINCREMENT,\n",
    "    inputs TEXT,\n",
    "    inicio TEXT,\n",
    "    fim TEXT,\n",
    "    processamento TEXT\n",
    ")\n",
    "'''\n",
    "\n",
    "#executando a query\n",
    "cursor.execute(query_criar_banco)\n"
   ]
  },
  {
   "cell_type": "code",
   "execution_count": null,
   "id": "a02d4f59",
   "metadata": {},
   "outputs": [],
   "source": [
    "# Query __> Inserir infos\n",
    "\n",
    "query_inserir = '''\n",
    "\n",
    "    INSERT INTO Log_API (inputs, inicio, fim, processamento)\n",
    "    VALUES ('25;1;1;0;0;0;0;0;84', '01/01/2000 19:00:01', '01/01/2000 19:00:02', '00:01')\n",
    "    \n",
    "'''\n",
    "\n",
    "#executando a query\n",
    "cursor.execute(query_inserir)\n",
    "\n",
    "#commit\n",
    "conexao_banco.commit()"
   ]
  },
  {
   "cell_type": "code",
   "execution_count": 5,
   "id": "2a5f2eeb",
   "metadata": {},
   "outputs": [
    {
     "data": {
      "text/plain": [
       "[(1,\n",
       "  '25;1;1;0;0;0;0;0;84',\n",
       "  '01/01/2000 19:00:01',\n",
       "  '01/01/2000 19:00:02',\n",
       "  '00:01'),\n",
       " (2,\n",
       "  '25;1;1;0;0;0;0;0;84',\n",
       "  '01/01/2000 19:00:01',\n",
       "  '01/01/2000 19:00:02',\n",
       "  '00:01'),\n",
       " (3,\n",
       "  '25;1;1;0;0;0;0;0;84',\n",
       "  '01/01/2000 19:00:01',\n",
       "  '01/01/2000 19:00:02',\n",
       "  '00:01'),\n",
       " (4,\n",
       "  ';25.0;1.0;1.0;0.0;0.0;0.0;0.0;0.0;84.0;[1562.36315083]',\n",
       "  '2022-10-24 21:27:31.245951',\n",
       "  '2022-10-24 21:27:31.254926',\n",
       "  '0:00:00.008975'),\n",
       " (5,\n",
       "  ';550.0;1.0;1.0;0.0;0.0;0.0;0.0;0.0;84.0;[6684.68465071]',\n",
       "  '2022-10-24 21:29:12.180883',\n",
       "  '2022-10-24 21:29:12.187737',\n",
       "  '0:00:00.006854'),\n",
       " (6,\n",
       "  ';550.0;1.0;1.0;0.0;0.0;0.0;0.0;0.0;84.0;[6684.68465071]',\n",
       "  '2022-10-25 09:31:24.234516',\n",
       "  '2022-10-25 09:31:24.234516',\n",
       "  '0:00:00'),\n",
       " (7,\n",
       "  ';80.0;1.0;1.0;0.0;0.0;0.0;0.0;0.0;84.0;[1697.7852012]',\n",
       "  '2022-10-25 09:31:35.529341',\n",
       "  '2022-10-25 09:31:35.536682',\n",
       "  '0:00:00.007341'),\n",
       " (8,\n",
       "  ';120.0;1.0;1.0;0.0;0.0;0.0;0.0;0.0;84.0;[2899.96413135]',\n",
       "  '2022-10-25 09:34:05.476449',\n",
       "  '2022-10-25 09:34:05.483686',\n",
       "  '0:00:00.007237')]"
      ]
     },
     "execution_count": 5,
     "metadata": {},
     "output_type": "execute_result"
    }
   ],
   "source": [
    "query_consulta = '''\n",
    "\n",
    "SELECT * FROM Log_API\n",
    "\n",
    "'''\n",
    "\n",
    "#executando a query\n",
    "cursor.execute(query_consulta).fetchall()"
   ]
  },
  {
   "cell_type": "code",
   "execution_count": null,
   "id": "bd653d0e",
   "metadata": {},
   "outputs": [],
   "source": []
  }
 ],
 "metadata": {
  "kernelspec": {
   "display_name": "Python 3 (ipykernel)",
   "language": "python",
   "name": "python3"
  },
  "language_info": {
   "codemirror_mode": {
    "name": "ipython",
    "version": 3
   },
   "file_extension": ".py",
   "mimetype": "text/x-python",
   "name": "python",
   "nbconvert_exporter": "python",
   "pygments_lexer": "ipython3",
   "version": "3.9.12"
  }
 },
 "nbformat": 4,
 "nbformat_minor": 5
}
