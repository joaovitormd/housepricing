{
 "cells": [
  {
   "cell_type": "markdown",
   "id": "59d796cf",
   "metadata": {},
   "source": [
    "# Conexões com a API"
   ]
  },
  {
   "cell_type": "code",
   "execution_count": 1,
   "id": "6fdbebe0",
   "metadata": {},
   "outputs": [],
   "source": [
    "import requests"
   ]
  },
  {
   "cell_type": "code",
   "execution_count": 4,
   "id": "033f208c",
   "metadata": {},
   "outputs": [
    {
     "data": {
      "text/plain": [
       "{'valor_aluguel': '[2899.96413135]'}"
      ]
     },
     "execution_count": 4,
     "metadata": {},
     "output_type": "execute_result"
    }
   ],
   "source": [
    "url = 'http://127.0.0.1:5000/API_preditivo/120;1;1;0;0;0;0;0;84'\n",
    "\n",
    "#Acessar a conexão\n",
    "consulta = requests.get(url)\n",
    "\n",
    "#buscar infos\n",
    "response = consulta.json()\n",
    "\n",
    "#devolução\n",
    "response"
   ]
  },
  {
   "cell_type": "code",
   "execution_count": null,
   "id": "5768b7f2",
   "metadata": {},
   "outputs": [],
   "source": []
  }
 ],
 "metadata": {
  "kernelspec": {
   "display_name": "Python 3 (ipykernel)",
   "language": "python",
   "name": "python3"
  },
  "language_info": {
   "codemirror_mode": {
    "name": "ipython",
    "version": 3
   },
   "file_extension": ".py",
   "mimetype": "text/x-python",
   "name": "python",
   "nbconvert_exporter": "python",
   "pygments_lexer": "ipython3",
   "version": "3.9.12"
  }
 },
 "nbformat": 4,
 "nbformat_minor": 5
}
