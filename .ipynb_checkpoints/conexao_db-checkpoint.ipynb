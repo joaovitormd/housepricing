{
 "cells": [
  {
   "cell_type": "code",
   "execution_count": 2,
   "id": "c3e3cbb1",
   "metadata": {},
   "outputs": [],
   "source": [
    "import sqlite3"
   ]
  },
  {
   "cell_type": "code",
   "execution_count": 3,
   "id": "6bac0741",
   "metadata": {},
   "outputs": [],
   "source": [
    "#criar banco de dados\n",
    "conexao_banco = sqlite3.connect('banco_de_dados_API.db')"
   ]
  },
  {
   "cell_type": "code",
   "execution_count": 10,
   "id": "4f3bf422",
   "metadata": {},
   "outputs": [],
   "source": [
    "#apontar para o banco de dados\n",
    "cursor = conexao_banco.cursor()"
   ]
  },
  {
   "cell_type": "code",
   "execution_count": 11,
   "id": "fa3a5d2c",
   "metadata": {},
   "outputs": [
    {
     "data": {
      "text/plain": [
       "<sqlite3.Cursor at 0x29f3f695340>"
      ]
     },
     "execution_count": 11,
     "metadata": {},
     "output_type": "execute_result"
    }
   ],
   "source": [
    "#Query --> criar tabela\n",
    "\n",
    "query_criar_banco='''\n",
    "\n",
    "CREATE TABLE Log_API (\n",
    "    id INTEGER NOT NULL PRIMARY KEY AUTOINCREMENT,\n",
    "    inputs TEXT,\n",
    "    inicio TEXT,\n",
    "    fim TEXT,\n",
    "    processamento TEXT\n",
    ")\n",
    "'''\n",
    "\n",
    "#executando a query\n",
    "cursor.execute(query_criar_banco)\n"
   ]
  },
  {
   "cell_type": "code",
   "execution_count": null,
   "id": "4059c880",
   "metadata": {},
   "outputs": [],
   "source": [
    "# Query __> Inserir infos\n",
    "\n",
    "query_inserir = '''\n",
    "\n",
    "INSERT INTO Log_API (inputs, inicio, fim, processamento)\n",
    "\n",
    "'''"
   ]
  },
  {
   "cell_type": "code",
   "execution_count": 12,
   "id": "a65a650e",
   "metadata": {},
   "outputs": [
    {
     "data": {
      "text/plain": [
       "[]"
      ]
     },
     "execution_count": 12,
     "metadata": {},
     "output_type": "execute_result"
    }
   ],
   "source": [
    "query_consulta = '''\n",
    "\n",
    "SELECT * FROM Log_API\n",
    "\n",
    "'''\n",
    "\n",
    "#executando a query\n",
    "cursor.execute(query_consulta).fetchall()"
   ]
  },
  {
   "cell_type": "code",
   "execution_count": null,
   "id": "a86dbae2",
   "metadata": {},
   "outputs": [],
   "source": []
  }
 ],
 "metadata": {
  "kernelspec": {
   "display_name": "Python 3 (ipykernel)",
   "language": "python",
   "name": "python3"
  },
  "language_info": {
   "codemirror_mode": {
    "name": "ipython",
    "version": 3
   },
   "file_extension": ".py",
   "mimetype": "text/x-python",
   "name": "python",
   "nbconvert_exporter": "python",
   "pygments_lexer": "ipython3",
   "version": "3.9.12"
  }
 },
 "nbformat": 4,
 "nbformat_minor": 5
}
